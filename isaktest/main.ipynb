{
 "cells": [
  {
   "cell_type": "code",
   "execution_count": 1,
   "metadata": {},
   "outputs": [
    {
     "name": "stdout",
     "output_type": "stream",
     "text": [
      "Net(\n",
      "  (conv1): Conv2d(3, 32, kernel_size=(5, 5), stride=(1, 1))\n",
      "  (pool): MaxPool2d(kernel_size=2, stride=2, padding=0, dilation=1, ceil_mode=False)\n",
      "  (conv2): Conv2d(32, 64, kernel_size=(3, 3), stride=(1, 1))\n",
      "  (conv3): Conv2d(64, 128, kernel_size=(3, 3), stride=(1, 1))\n",
      "  (conv4): Conv2d(128, 256, kernel_size=(3, 3), stride=(1, 1))\n",
      "  (conv5): Conv2d(256, 512, kernel_size=(1, 1), stride=(1, 1))\n",
      "  (fc1): Linear(in_features=18432, out_features=1024, bias=True)\n",
      "  (fc2): Linear(in_features=1024, out_features=512, bias=True)\n",
      "  (fc3): Linear(in_features=512, out_features=8, bias=True)\n",
      "  (drop1): Dropout(p=0.25, inplace=False)\n",
      ")\n"
     ]
    }
   ],
   "source": [
    "import torch\n",
    "import torch.nn as nn\n",
    "import torch.nn.functional as f\n",
    "import matplotlib.pyplot as plt\n",
    "import numpy as np\n",
    "import pandas as pd\n",
    "\n",
    "from model import Net\n",
    "\n",
    "net = Net()\n",
    "print(net)"
   ]
  },
  {
   "cell_type": "code",
   "execution_count": 2,
   "metadata": {},
   "outputs": [],
   "source": [
    "from torch.utils.data import Dataset, DataLoader\n",
    "from torchvision import transforms, utils"
   ]
  },
  {
   "cell_type": "code",
   "execution_count": 3,
   "metadata": {},
   "outputs": [],
   "source": [
    "annotations = pd.read_csv('../data/AFLW/annotations.csv')"
   ]
  },
  {
   "cell_type": "code",
   "execution_count": 4,
   "metadata": {},
   "outputs": [
    {
     "data": {
      "text/plain": [
       "(16418, 12)"
      ]
     },
     "execution_count": 4,
     "metadata": {},
     "output_type": "execute_result"
    }
   ],
   "source": [
    "annotations.shape"
   ]
  },
  {
   "cell_type": "code",
   "execution_count": 5,
   "metadata": {},
   "outputs": [
    {
     "data": {
      "text/html": [
       "<div>\n",
       "<style scoped>\n",
       "    .dataframe tbody tr th:only-of-type {\n",
       "        vertical-align: middle;\n",
       "    }\n",
       "\n",
       "    .dataframe tbody tr th {\n",
       "        vertical-align: top;\n",
       "    }\n",
       "\n",
       "    .dataframe thead th {\n",
       "        text-align: right;\n",
       "    }\n",
       "</style>\n",
       "<table border=\"1\" class=\"dataframe\">\n",
       "  <thead>\n",
       "    <tr style=\"text-align: right;\">\n",
       "      <th></th>\n",
       "      <th>index</th>\n",
       "      <th>face_id</th>\n",
       "      <th>LeftEye_x</th>\n",
       "      <th>LeftEye_y</th>\n",
       "      <th>RightEye_x</th>\n",
       "      <th>RightEye_y</th>\n",
       "      <th>Nose_x</th>\n",
       "      <th>Nose_y</th>\n",
       "      <th>Mouth_x</th>\n",
       "      <th>Mouth_y</th>\n",
       "      <th>file_id</th>\n",
       "      <th>sex</th>\n",
       "    </tr>\n",
       "  </thead>\n",
       "  <tbody>\n",
       "    <tr>\n",
       "      <th>0</th>\n",
       "      <td>0</td>\n",
       "      <td>39341</td>\n",
       "      <td>209.0</td>\n",
       "      <td>150.0</td>\n",
       "      <td>302.0</td>\n",
       "      <td>186.0</td>\n",
       "      <td>277.000000</td>\n",
       "      <td>268.000000</td>\n",
       "      <td>232.000000</td>\n",
       "      <td>308.000000</td>\n",
       "      <td>image00035.jpg</td>\n",
       "      <td>m</td>\n",
       "    </tr>\n",
       "    <tr>\n",
       "      <th>1</th>\n",
       "      <td>1</td>\n",
       "      <td>39343</td>\n",
       "      <td>148.0</td>\n",
       "      <td>203.0</td>\n",
       "      <td>234.0</td>\n",
       "      <td>207.0</td>\n",
       "      <td>219.053909</td>\n",
       "      <td>272.376251</td>\n",
       "      <td>203.000000</td>\n",
       "      <td>308.000000</td>\n",
       "      <td>image00168.jpg</td>\n",
       "      <td>f</td>\n",
       "    </tr>\n",
       "    <tr>\n",
       "      <th>2</th>\n",
       "      <td>2</td>\n",
       "      <td>39348</td>\n",
       "      <td>143.0</td>\n",
       "      <td>123.0</td>\n",
       "      <td>223.0</td>\n",
       "      <td>173.0</td>\n",
       "      <td>159.983505</td>\n",
       "      <td>209.756149</td>\n",
       "      <td>134.000000</td>\n",
       "      <td>257.000000</td>\n",
       "      <td>image00102.jpg</td>\n",
       "      <td>f</td>\n",
       "    </tr>\n",
       "    <tr>\n",
       "      <th>3</th>\n",
       "      <td>3</td>\n",
       "      <td>39349</td>\n",
       "      <td>229.0</td>\n",
       "      <td>196.0</td>\n",
       "      <td>291.0</td>\n",
       "      <td>198.0</td>\n",
       "      <td>274.000000</td>\n",
       "      <td>218.000000</td>\n",
       "      <td>270.000000</td>\n",
       "      <td>254.000000</td>\n",
       "      <td>image00104.jpg</td>\n",
       "      <td>f</td>\n",
       "    </tr>\n",
       "    <tr>\n",
       "      <th>4</th>\n",
       "      <td>4</td>\n",
       "      <td>39352</td>\n",
       "      <td>334.0</td>\n",
       "      <td>229.0</td>\n",
       "      <td>526.0</td>\n",
       "      <td>249.0</td>\n",
       "      <td>486.200958</td>\n",
       "      <td>406.574982</td>\n",
       "      <td>433.417664</td>\n",
       "      <td>518.424988</td>\n",
       "      <td>image00122.jpg</td>\n",
       "      <td>f</td>\n",
       "    </tr>\n",
       "  </tbody>\n",
       "</table>\n",
       "</div>"
      ],
      "text/plain": [
       "   index  face_id  LeftEye_x  LeftEye_y  RightEye_x  RightEye_y      Nose_x  \\\n",
       "0      0    39341      209.0      150.0       302.0       186.0  277.000000   \n",
       "1      1    39343      148.0      203.0       234.0       207.0  219.053909   \n",
       "2      2    39348      143.0      123.0       223.0       173.0  159.983505   \n",
       "3      3    39349      229.0      196.0       291.0       198.0  274.000000   \n",
       "4      4    39352      334.0      229.0       526.0       249.0  486.200958   \n",
       "\n",
       "       Nose_y     Mouth_x     Mouth_y         file_id sex  \n",
       "0  268.000000  232.000000  308.000000  image00035.jpg   m  \n",
       "1  272.376251  203.000000  308.000000  image00168.jpg   f  \n",
       "2  209.756149  134.000000  257.000000  image00102.jpg   f  \n",
       "3  218.000000  270.000000  254.000000  image00104.jpg   f  \n",
       "4  406.574982  433.417664  518.424988  image00122.jpg   f  "
      ]
     },
     "execution_count": 5,
     "metadata": {},
     "output_type": "execute_result"
    }
   ],
   "source": [
    "annotations.rename(columns={\"Unnamed: 0\": \"index\"}, inplace=True)\n",
    "annotations.head()"
   ]
  },
  {
   "cell_type": "code",
   "execution_count": 6,
   "metadata": {},
   "outputs": [],
   "source": [
    "from dotenv import load_dotenv\n",
    "import os\n",
    "\n",
    "load_dotenv()\n",
    "\n",
    "dataset_path = os.getenv(\"DATA_PATH\")"
   ]
  },
  {
   "cell_type": "code",
   "execution_count": 7,
   "metadata": {},
   "outputs": [],
   "source": [
    "transform = transforms.Compose([\n",
    "    transforms.ToPILImage(),\n",
    "    transforms.Resize((224, 224)),\n",
    "    transforms.ToTensor(),\n",
    "    transforms.Normalize(mean=[0.485, 0.456, 0.406], std=[0.229, 0.224, 0.225])\n",
    "])\n",
    "\n",
    "class FaceKeypointDataset(Dataset):\n",
    "    def __init__(self, annotations, root_dir, transform=None):\n",
    "        \n",
    "        self.annotations = annotations\n",
    "        self.root_dir = root_dir\n",
    "        self.transform = transform\n",
    "\n",
    "    def __len__(self):\n",
    "        return len(self.annotations)\n",
    "\n",
    "    def __getitem__(self, idx):\n",
    "        try:\n",
    "            img_name = os.path.join(self.root_dir, self.annotations[\"file_id\"][idx])\n",
    "            image = plt.imread(img_name)\n",
    "            \n",
    "            if len(image.shape) == 2:\n",
    "                image = np.stack([image] * 3, axis=-1)\n",
    "            elif image.shape[-1] == 4:\n",
    "                image = image[:, :, :3]\n",
    "            elif image.shape[-1] != 3:\n",
    "                raise ValueError(f\"Unexpected number of channels: {image.shape[-1]} in {img_name}\")\n",
    "\n",
    "            landmarks = self.annotations.iloc[idx, 2:-2].values\n",
    "            landmarks = landmarks.astype('float').reshape(-1, 2)\n",
    "\n",
    "            if self.transform:\n",
    "                image = self.transform(image)\n",
    "\n",
    "            h, w = image.shape[1:]\n",
    "            landmarks[:, 0] *= (224 / w)\n",
    "            landmarks[:, 1] *= (224 / h)\n",
    "\n",
    "            return image, torch.tensor(landmarks, dtype=torch.float32)\n",
    "\n",
    "        except Exception as e:\n",
    "            print(f\"Skipping {idx} due to error: {e}\")\n",
    "            return None"
   ]
  },
  {
   "cell_type": "code",
   "execution_count": 8,
   "metadata": {},
   "outputs": [
    {
     "data": {
      "text/plain": [
       "array([np.float64(209.0), np.float64(150.0), np.float64(302.0),\n",
       "       np.float64(186.0), np.float64(277.0), np.float64(268.0),\n",
       "       np.float64(232.0), np.float64(308.0)], dtype=object)"
      ]
     },
     "execution_count": 8,
     "metadata": {},
     "output_type": "execute_result"
    }
   ],
   "source": [
    "annotations.iloc[0, 2:10].values"
   ]
  },
  {
   "cell_type": "code",
   "execution_count": 9,
   "metadata": {},
   "outputs": [
    {
     "data": {
      "text/plain": [
       "'//OMVICECAVE/nas/ml_data/AFLW//annotated_imgs/image00144.jpg'"
      ]
     },
     "execution_count": 9,
     "metadata": {},
     "output_type": "execute_result"
    }
   ],
   "source": [
    "os.path.join(dataset_path + \"/annotated_imgs/\", annotations[\"file_id\"][5])"
   ]
  },
  {
   "cell_type": "code",
   "execution_count": 10,
   "metadata": {},
   "outputs": [
    {
     "data": {
      "text/plain": [
       "'\\n# image = plt.imread(img_name)\\n# landmarks = annotations[annotations[\\'file_id\\'] == img].values[0][1:-2].astype(\\'float\\').reshape(-1, 2)\\n# plt.imshow(image)\\n# plt.scatter(landmarks[:, 0], landmarks[:, 1], s=10, marker=\\'.\\', c=\\'r\\')\\n# plt.savefig(dataset_path + \"/annotaded_imgs/\" + img)\\n# plt.close()\\n'"
      ]
     },
     "execution_count": 10,
     "metadata": {},
     "output_type": "execute_result"
    }
   ],
   "source": [
    "# os.mkdir(dataset_path + \"/annotaded_imgs/\")\n",
    "import shutil\n",
    "\n",
    "for dir in [\"0\", \"2\", \"3\"]:\n",
    "    for img in os.listdir(os.path.join(dataset_path, dir)):\n",
    "        if img in annotations['file_id'].values:\n",
    "            img_name = os.path.join(dataset_path, dir, img)\n",
    "            shutil.copy(img_name, dataset_path + \"/annotaded_imgs/\" + img)\n",
    "    print(dir)\n",
    "\"\"\"\n",
    "# image = plt.imread(img_name)\n",
    "# landmarks = annotations[annotations['file_id'] == img].values[0][1:-2].astype('float').reshape(-1, 2)\n",
    "# plt.imshow(image)\n",
    "# plt.scatter(landmarks[:, 0], landmarks[:, 1], s=10, marker='.', c='r')\n",
    "# plt.savefig(dataset_path + \"/annotaded_imgs/\" + img)\n",
    "# plt.close()\n",
    "\"\"\""
   ]
  },
  {
   "cell_type": "code",
   "execution_count": 11,
   "metadata": {},
   "outputs": [
    {
     "data": {
      "text/plain": [
       "14280"
      ]
     },
     "execution_count": 11,
     "metadata": {},
     "output_type": "execute_result"
    }
   ],
   "source": [
    "len(os.listdir(dataset_path + \"/annotaded_imgs/\"))"
   ]
  },
  {
   "cell_type": "code",
   "execution_count": 12,
   "metadata": {},
   "outputs": [
    {
     "data": {
      "text/plain": [
       "(14287,)"
      ]
     },
     "execution_count": 12,
     "metadata": {},
     "output_type": "execute_result"
    }
   ],
   "source": [
    "annotations[\"file_id\"].unique().shape"
   ]
  },
  {
   "cell_type": "code",
   "execution_count": 13,
   "metadata": {},
   "outputs": [
    {
     "data": {
      "text/plain": [
       "(16418,)"
      ]
     },
     "execution_count": 13,
     "metadata": {},
     "output_type": "execute_result"
    }
   ],
   "source": [
    "annotations[\"face_id\"].unique().shape"
   ]
  },
  {
   "cell_type": "code",
   "execution_count": 14,
   "metadata": {},
   "outputs": [],
   "source": [
    "annotations = annotations[annotations[\"file_id\"].isin(os.listdir(dataset_path + \"/annotaded_imgs/\"))]"
   ]
  },
  {
   "cell_type": "code",
   "execution_count": 15,
   "metadata": {},
   "outputs": [],
   "source": [
    "dataset = FaceKeypointDataset(annotations, dataset_path + \"/annotaded_imgs/\", transform=transform)"
   ]
  },
  {
   "cell_type": "code",
   "execution_count": 16,
   "metadata": {},
   "outputs": [],
   "source": [
    "from torch.utils.data import DataLoader\n",
    "\n",
    "dataloader = DataLoader(dataset, batch_size=128, shuffle=True, num_workers=8, pin_memory=True)"
   ]
  },
  {
   "cell_type": "code",
   "execution_count": 17,
   "metadata": {},
   "outputs": [],
   "source": [
    "# for images, landmarks in dataloader:\n",
    "#     print(images.shape)\n",
    "#     print(landmarks.shape)\n",
    "#     break"
   ]
  },
  {
   "cell_type": "code",
   "execution_count": null,
   "metadata": {},
   "outputs": [],
   "source": [
    "import torch.optim as optim\n",
    "\n",
    "criterion = nn.MSELoss()\n",
    "optimizer = optim.Adam(net.parameters(), lr=0.001)\n",
    "\n",
    "device = torch.device(\"cuda:0\" if torch.cuda.is_available() else \"cpu\")\n",
    "\n",
    "net.to(device)\n",
    "\n",
    "for epoch in range(10):\n",
    "    running_loss = 0.0\n",
    "    for i, (inputs, labels) in enumerate(dataloader, 0):\n",
    "        if inputs is None:\n",
    "            continue\n",
    "        \n",
    "        inputs, labels = inputs.to(device), labels.to(device)\n",
    "\n",
    "        labels = labels.view(labels.size(0), -1)\n",
    "\n",
    "        optimizer.zero_grad()\n",
    "\n",
    "        outputs = net(inputs)\n",
    "\n",
    "        loss = criterion(outputs, labels)\n",
    "\n",
    "        loss.backward()\n",
    "        optimizer.step()\n",
    "        \n",
    "        # print(f\"outputs shape: {outputs.shape}\")\n",
    "        # print(f\"labels shape: {labels.shape}\")\n",
    "\n",
    "        running_loss += loss.item()\n",
    "        if i % 10 == 9:\n",
    "            print(f\"[{epoch + 1}, {i + 1}] loss: {running_loss / 10}\")\n",
    "            running_loss = 0.0\n",
    "\n",
    "# torch.save(net.state_dict(), \"model.pth\")\n"
   ]
  },
  {
   "cell_type": "code",
   "execution_count": 20,
   "metadata": {},
   "outputs": [
    {
     "name": "stdout",
     "output_type": "stream",
     "text": [
      "cuda:0 cuda:0\n"
     ]
    }
   ],
   "source": [
    "print(inputs.device, labels.device)"
   ]
  },
  {
   "cell_type": "code",
   "execution_count": null,
   "metadata": {},
   "outputs": [],
   "source": [
    "from ..utils import train_test_split\n",
    "\n",
    "train_loader, val_loader, test_loader = train_test_split(dataloader, test_size=0.2)"
   ]
  },
  {
   "cell_type": "code",
   "execution_count": 21,
   "metadata": {},
   "outputs": [
    {
     "data": {
      "text/plain": [
       "0            0\n",
       "1            1\n",
       "2            2\n",
       "3            3\n",
       "4            4\n",
       "         ...  \n",
       "16406    16406\n",
       "16407    16407\n",
       "16408    16408\n",
       "16409    16409\n",
       "16410    16410\n",
       "Name: index, Length: 16411, dtype: int64"
      ]
     },
     "execution_count": 21,
     "metadata": {},
     "output_type": "execute_result"
    }
   ],
   "source": [
    "annotations[\"index\"]"
   ]
  },
  {
   "cell_type": "code",
   "execution_count": 3,
   "metadata": {},
   "outputs": [
    {
     "name": "stdout",
     "output_type": "stream",
     "text": [
      "epochs=[1, 2, 3, 4, 5, 6, 7, 8, 9, 10, 11, 12, 13, 14, 15, 16, 17, 18, 19, 20, 21, 22, 23, 24, 25, 26, 27, 28, 29, 30, 31, 32, 33, 34, 35, 36, 37, 38, 39, 40, 41, 42, 43, 44, 45, 46, 47, 48, 49, 50]\n",
      "train_losses=[157732.3793, 148942.3107, 147161.0543, 146131.1639, 145096.6185, 144842.2426, 144174.5335, 143580.4316, 142741.4534, 141789.1278, 140470.4221, 138686.5334, 138003.2179, 136547.7602, 135569.7808, 134122.9428, 132347.991, 132149.9191, 131647.9847, 129998.592, 129816.4535, 128761.1703, 126880.7151, 123933.7819, 128218.1862, 122300.9154, 120795.4125, 117447.6531, 114085.1587, 111676.6116, 106824.1151, 101960.6151, 98066.4343, 93625.075, 89053.5596, 81548.8484, 77050.1886, 71579.7258, 68276.8663, 61246.8894, 60021.2616, 53473.5943, 52445.4918, 48275.996, 44901.6501, 44727.9092, 43746.1577, 42779.9909, 39335.3378, 43800.6938]\n",
      "val_losses=[143405.7422, 142651.7706, 145542.1689, 145430.8819, 204477.8606, 142522.8462, 137472.2841, 138919.4066, 171400.4093, 135887.1187, 143732.7118, 151413.1457, 136645.4877, 136744.5421, 135814.7485, 166290.558, 128446.4793, 128509.0129, 173417.4829, 128638.3272, 133090.7764, 134485.7417, 140092.1463, 123967.2991, 141307.6776, 147259.7136, 129769.4892, 125809.8804, 162290.2545, 120739.6642, 135494.9863, 241984.3534, 142177.8353, 457749.6118, 120979.561, 125373.6573, 249886.1809, 142904.9444, 123074.215, 117911.0155, 124741.5766, 120400.6394, 128440.7733, 160993.8999, 155539.473, 129228.6901, 123441.5325, 116921.7194, 119767.6866, 143254.4829]\n"
     ]
    }
   ],
   "source": [
    "import re\n",
    "\n",
    "with open(\"first50\", \"r\") as f:\n",
    "    lines = f.readlines()\n",
    "\n",
    "lines = [line.strip() for line in lines]\n",
    "\n",
    "epochs = []\n",
    "train_losses = []\n",
    "val_losses = []\n",
    "\n",
    "for line in lines:\n",
    "    if line.strip():\n",
    "        m = re.search(r'Epoch (\\d+)/\\d+ \\| Train Loss: ([\\d.]+) \\| Val Loss: ([\\d.]+)', line)\n",
    "        if m:\n",
    "            epochs.append(int(m.group(1)))\n",
    "            train_losses.append(float(m.group(2)))\n",
    "            val_losses.append(float(m.group(3)))\n",
    "\n",
    "print(f\"{epochs=}\")\n",
    "print(f\"{train_losses=}\")\n",
    "print(f\"{val_losses=}\")"
   ]
  },
  {
   "cell_type": "code",
   "execution_count": 5,
   "metadata": {},
   "outputs": [
    {
     "data": {
      "text/plain": [
       "[<matplotlib.lines.Line2D at 0x2b0af91dc50>]"
      ]
     },
     "execution_count": 5,
     "metadata": {},
     "output_type": "execute_result"
    },
    {
     "data": {
      "image/png": "[encoded data removed]",
      "text/plain": [
       "<Figure size 640x480 with 1 Axes>"
      ]
     },
     "metadata": {},
     "output_type": "display_data"
    }
   ],
   "source": [
    "import matplotlib.pyplot as plt\n",
    "\n",
    "plt.plot(epochs, train_losses, label=\"Train Loss\")\n",
    "plt.plot(epochs, val_losses, label=\"Val Loss\")"
   ]
  }
 ],
 "metadata": {
  "kernelspec": {
   "display_name": ".venv",
   "language": "python",
   "name": "python3"
  },
  "language_info": {
   "codemirror_mode": {
    "name": "ipython",
    "version": 3
   },
   "file_extension": ".py",
   "mimetype": "text/x-python",
   "name": "python",
   "nbconvert_exporter": "python",
   "pygments_lexer": "ipython3",
   "version": "3.11.9"
  }
 },
 "nbformat": 4,
 "nbformat_minor": 2
}
