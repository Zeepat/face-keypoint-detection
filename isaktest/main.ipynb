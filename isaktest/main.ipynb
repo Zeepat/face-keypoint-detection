{
 "cells": [
  {
   "cell_type": "code",
   "execution_count": 1,
   "metadata": {},
   "outputs": [
    {
     "name": "stdout",
     "output_type": "stream",
     "text": [
      "Net(\n",
      "  (conv1): Conv2d(3, 32, kernel_size=(5, 5), stride=(1, 1))\n",
      "  (pool): MaxPool2d(kernel_size=2, stride=2, padding=0, dilation=1, ceil_mode=False)\n",
      "  (conv2): Conv2d(32, 64, kernel_size=(3, 3), stride=(1, 1))\n",
      "  (conv3): Conv2d(64, 128, kernel_size=(3, 3), stride=(1, 1))\n",
      "  (conv4): Conv2d(128, 256, kernel_size=(3, 3), stride=(1, 1))\n",
      "  (conv5): Conv2d(256, 512, kernel_size=(1, 1), stride=(1, 1))\n",
      "  (fc1): Linear(in_features=18432, out_features=1024, bias=True)\n",
      "  (fc2): Linear(in_features=1024, out_features=512, bias=True)\n",
      "  (fc3): Linear(in_features=512, out_features=8, bias=True)\n",
      "  (drop1): Dropout(p=0.25, inplace=False)\n",
      ")\n"
     ]
    }
   ],
   "source": [
    "import torch\n",
    "import torch.nn as nn\n",
    "import torch.nn.functional as f\n",
    "import matplotlib.pyplot as plt\n",
    "import numpy as np\n",
    "import pandas as pd\n",
    "\n",
    "from model import Net\n",
    "\n",
    "net = Net()\n",
    "print(net)"
   ]
  },
  {
   "cell_type": "code",
   "execution_count": 2,
   "metadata": {},
   "outputs": [],
   "source": [
    "from torch.utils.data import Dataset, DataLoader\n",
    "from torchvision import transforms, utils"
   ]
  },
  {
   "cell_type": "code",
   "execution_count": 3,
   "metadata": {},
   "outputs": [],
   "source": [
    "annotations = pd.read_csv('../data/AFLW/annotations.csv')"
   ]
  },
  {
   "cell_type": "code",
   "execution_count": 4,
   "metadata": {},
   "outputs": [
    {
     "data": {
      "text/plain": [
       "(16418, 12)"
      ]
     },
     "execution_count": 4,
     "metadata": {},
     "output_type": "execute_result"
    }
   ],
   "source": [
    "annotations.shape"
   ]
  },
  {
   "cell_type": "code",
   "execution_count": 5,
   "metadata": {},
   "outputs": [
    {
     "data": {
      "text/html": [
       "<div>\n",
       "<style scoped>\n",
       "    .dataframe tbody tr th:only-of-type {\n",
       "        vertical-align: middle;\n",
       "    }\n",
       "\n",
       "    .dataframe tbody tr th {\n",
       "        vertical-align: top;\n",
       "    }\n",
       "\n",
       "    .dataframe thead th {\n",
       "        text-align: right;\n",
       "    }\n",
       "</style>\n",
       "<table border=\"1\" class=\"dataframe\">\n",
       "  <thead>\n",
       "    <tr style=\"text-align: right;\">\n",
       "      <th></th>\n",
       "      <th>index</th>\n",
       "      <th>face_id</th>\n",
       "      <th>LeftEye_x</th>\n",
       "      <th>LeftEye_y</th>\n",
       "      <th>RightEye_x</th>\n",
       "      <th>RightEye_y</th>\n",
       "      <th>Nose_x</th>\n",
       "      <th>Nose_y</th>\n",
       "      <th>Mouth_x</th>\n",
       "      <th>Mouth_y</th>\n",
       "      <th>file_id</th>\n",
       "      <th>sex</th>\n",
       "    </tr>\n",
       "  </thead>\n",
       "  <tbody>\n",
       "    <tr>\n",
       "      <th>0</th>\n",
       "      <td>0</td>\n",
       "      <td>39341</td>\n",
       "      <td>209.0</td>\n",
       "      <td>150.0</td>\n",
       "      <td>302.0</td>\n",
       "      <td>186.0</td>\n",
       "      <td>277.000000</td>\n",
       "      <td>268.000000</td>\n",
       "      <td>232.000000</td>\n",
       "      <td>308.000000</td>\n",
       "      <td>image00035.jpg</td>\n",
       "      <td>m</td>\n",
       "    </tr>\n",
       "    <tr>\n",
       "      <th>1</th>\n",
       "      <td>1</td>\n",
       "      <td>39343</td>\n",
       "      <td>148.0</td>\n",
       "      <td>203.0</td>\n",
       "      <td>234.0</td>\n",
       "      <td>207.0</td>\n",
       "      <td>219.053909</td>\n",
       "      <td>272.376251</td>\n",
       "      <td>203.000000</td>\n",
       "      <td>308.000000</td>\n",
       "      <td>image00168.jpg</td>\n",
       "      <td>f</td>\n",
       "    </tr>\n",
       "    <tr>\n",
       "      <th>2</th>\n",
       "      <td>2</td>\n",
       "      <td>39348</td>\n",
       "      <td>143.0</td>\n",
       "      <td>123.0</td>\n",
       "      <td>223.0</td>\n",
       "      <td>173.0</td>\n",
       "      <td>159.983505</td>\n",
       "      <td>209.756149</td>\n",
       "      <td>134.000000</td>\n",
       "      <td>257.000000</td>\n",
       "      <td>image00102.jpg</td>\n",
       "      <td>f</td>\n",
       "    </tr>\n",
       "    <tr>\n",
       "      <th>3</th>\n",
       "      <td>3</td>\n",
       "      <td>39349</td>\n",
       "      <td>229.0</td>\n",
       "      <td>196.0</td>\n",
       "      <td>291.0</td>\n",
       "      <td>198.0</td>\n",
       "      <td>274.000000</td>\n",
       "      <td>218.000000</td>\n",
       "      <td>270.000000</td>\n",
       "      <td>254.000000</td>\n",
       "      <td>image00104.jpg</td>\n",
       "      <td>f</td>\n",
       "    </tr>\n",
       "    <tr>\n",
       "      <th>4</th>\n",
       "      <td>4</td>\n",
       "      <td>39352</td>\n",
       "      <td>334.0</td>\n",
       "      <td>229.0</td>\n",
       "      <td>526.0</td>\n",
       "      <td>249.0</td>\n",
       "      <td>486.200958</td>\n",
       "      <td>406.574982</td>\n",
       "      <td>433.417664</td>\n",
       "      <td>518.424988</td>\n",
       "      <td>image00122.jpg</td>\n",
       "      <td>f</td>\n",
       "    </tr>\n",
       "  </tbody>\n",
       "</table>\n",
       "</div>"
      ],
      "text/plain": [
       "   index  face_id  LeftEye_x  LeftEye_y  RightEye_x  RightEye_y      Nose_x  \\\n",
       "0      0    39341      209.0      150.0       302.0       186.0  277.000000   \n",
       "1      1    39343      148.0      203.0       234.0       207.0  219.053909   \n",
       "2      2    39348      143.0      123.0       223.0       173.0  159.983505   \n",
       "3      3    39349      229.0      196.0       291.0       198.0  274.000000   \n",
       "4      4    39352      334.0      229.0       526.0       249.0  486.200958   \n",
       "\n",
       "       Nose_y     Mouth_x     Mouth_y         file_id sex  \n",
       "0  268.000000  232.000000  308.000000  image00035.jpg   m  \n",
       "1  272.376251  203.000000  308.000000  image00168.jpg   f  \n",
       "2  209.756149  134.000000  257.000000  image00102.jpg   f  \n",
       "3  218.000000  270.000000  254.000000  image00104.jpg   f  \n",
       "4  406.574982  433.417664  518.424988  image00122.jpg   f  "
      ]
     },
     "execution_count": 5,
     "metadata": {},
     "output_type": "execute_result"
    }
   ],
   "source": [
    "annotations.rename(columns={\"Unnamed: 0\": \"index\"}, inplace=True)\n",
    "annotations.head()"
   ]
  },
  {
   "cell_type": "code",
   "execution_count": 6,
   "metadata": {},
   "outputs": [],
   "source": [
    "from dotenv import load_dotenv\n",
    "import os\n",
    "\n",
    "load_dotenv()\n",
    "\n",
    "dataset_path = os.getenv(\"DATA_PATH\")"
   ]
  },
  {
   "cell_type": "code",
   "execution_count": 7,
   "metadata": {},
   "outputs": [],
   "source": [
    "transform = transforms.Compose([\n",
    "    transforms.ToPILImage(),\n",
    "    transforms.Resize((224, 224)),\n",
    "    transforms.ToTensor(),\n",
    "    transforms.Normalize(mean=[0.485, 0.456, 0.406], std=[0.229, 0.224, 0.225])\n",
    "])\n",
    "\n",
    "class FaceKeypointDataset(Dataset):\n",
    "    def __init__(self, annotations, root_dir, transform=None):\n",
    "        \n",
    "        self.annotations = annotations\n",
    "        self.root_dir = root_dir\n",
    "        self.transform = transform\n",
    "\n",
    "    def __len__(self):\n",
    "        return len(self.annotations)\n",
    "\n",
    "    def __getitem__(self, idx):\n",
    "        try:\n",
    "            img_name = os.path.join(self.root_dir, self.annotations[\"file_id\"][idx])\n",
    "            image = plt.imread(img_name)\n",
    "            \n",
    "            if len(image.shape) == 2:\n",
    "                image = np.stack([image] * 3, axis=-1)\n",
    "            elif image.shape[-1] == 4:\n",
    "                image = image[:, :, :3]\n",
    "            elif image.shape[-1] != 3:\n",
    "                raise ValueError(f\"Unexpected number of channels: {image.shape[-1]} in {img_name}\")\n",
    "\n",
    "            landmarks = self.annotations.iloc[idx, 2:-2].values\n",
    "            landmarks = landmarks.astype('float').reshape(-1, 2)\n",
    "\n",
    "            if self.transform:\n",
    "                image = self.transform(image)\n",
    "\n",
    "            h, w = image.shape[1:]\n",
    "            landmarks[:, 0] *= (224 / w)\n",
    "            landmarks[:, 1] *= (224 / h)\n",
    "\n",
    "            return image, torch.tensor(landmarks, dtype=torch.float32)\n",
    "\n",
    "        except Exception as e:\n",
    "            print(f\"Skipping {idx} due to error: {e}\")\n",
    "            return None"
   ]
  },
  {
   "cell_type": "code",
   "execution_count": 8,
   "metadata": {},
   "outputs": [
    {
     "data": {
      "text/plain": [
       "array([np.float64(209.0), np.float64(150.0), np.float64(302.0),\n",
       "       np.float64(186.0), np.float64(277.0), np.float64(268.0),\n",
       "       np.float64(232.0), np.float64(308.0)], dtype=object)"
      ]
     },
     "execution_count": 8,
     "metadata": {},
     "output_type": "execute_result"
    }
   ],
   "source": [
    "annotations.iloc[0, 2:10].values"
   ]
  },
  {
   "cell_type": "code",
   "execution_count": 9,
   "metadata": {},
   "outputs": [
    {
     "data": {
      "text/plain": [
       "'//OMVICECAVE/nas/ml_data/AFLW//annotated_imgs/image00144.jpg'"
      ]
     },
     "execution_count": 9,
     "metadata": {},
     "output_type": "execute_result"
    }
   ],
   "source": [
    "os.path.join(dataset_path + \"/annotated_imgs/\", annotations[\"file_id\"][5])"
   ]
  },
  {
   "cell_type": "code",
   "execution_count": 10,
   "metadata": {},
   "outputs": [
    {
     "data": {
      "text/plain": [
       "'\\n# image = plt.imread(img_name)\\n# landmarks = annotations[annotations[\\'file_id\\'] == img].values[0][1:-2].astype(\\'float\\').reshape(-1, 2)\\n# plt.imshow(image)\\n# plt.scatter(landmarks[:, 0], landmarks[:, 1], s=10, marker=\\'.\\', c=\\'r\\')\\n# plt.savefig(dataset_path + \"/annotaded_imgs/\" + img)\\n# plt.close()\\n'"
      ]
     },
     "execution_count": 10,
     "metadata": {},
     "output_type": "execute_result"
    }
   ],
   "source": [
    "# os.mkdir(dataset_path + \"/annotaded_imgs/\")\n",
    "import shutil\n",
    "\n",
    "# for dir in [\"0\", \"2\", \"3\"]:\n",
    "#     for img in os.listdir(os.path.join(dataset_path, dir)):\n",
    "#         if img in annotations['file_id'].values:\n",
    "#             img_name = os.path.join(dataset_path, dir, img)\n",
    "\"\"\"\n",
    "# image = plt.imread(img_name)\n",
    "# landmarks = annotations[annotations['file_id'] == img].values[0][1:-2].astype('float').reshape(-1, 2)\n",
    "# plt.imshow(image)\n",
    "# plt.scatter(landmarks[:, 0], landmarks[:, 1], s=10, marker='.', c='r')\n",
    "# plt.savefig(dataset_path + \"/annotaded_imgs/\" + img)\n",
    "# plt.close()\n",
    "\"\"\"\n",
    "            # shutil.copy(img_name, dataset_path + \"/annotaded_imgs/\" + img)\n",
    "    # print(dir)"
   ]
  },
  {
   "cell_type": "code",
   "execution_count": 11,
   "metadata": {},
   "outputs": [
    {
     "data": {
      "text/plain": [
       "14280"
      ]
     },
     "execution_count": 11,
     "metadata": {},
     "output_type": "execute_result"
    }
   ],
   "source": [
    "len(os.listdir(dataset_path + \"/annotaded_imgs/\"))"
   ]
  },
  {
   "cell_type": "code",
   "execution_count": 12,
   "metadata": {},
   "outputs": [
    {
     "data": {
      "text/plain": [
       "(14287,)"
      ]
     },
     "execution_count": 12,
     "metadata": {},
     "output_type": "execute_result"
    }
   ],
   "source": [
    "annotations[\"file_id\"].unique().shape"
   ]
  },
  {
   "cell_type": "code",
   "execution_count": 13,
   "metadata": {},
   "outputs": [
    {
     "data": {
      "text/plain": [
       "(16418,)"
      ]
     },
     "execution_count": 13,
     "metadata": {},
     "output_type": "execute_result"
    }
   ],
   "source": [
    "annotations[\"face_id\"].unique().shape"
   ]
  },
  {
   "cell_type": "code",
   "execution_count": 14,
   "metadata": {},
   "outputs": [],
   "source": [
    "annotations = annotations[annotations[\"file_id\"].isin(os.listdir(dataset_path + \"/annotaded_imgs/\"))]"
   ]
  },
  {
   "cell_type": "code",
   "execution_count": 15,
   "metadata": {},
   "outputs": [],
   "source": [
    "dataset = FaceKeypointDataset(annotations, dataset_path + \"/annotaded_imgs/\", transform=transform)"
   ]
  },
  {
   "cell_type": "code",
   "execution_count": 16,
   "metadata": {},
   "outputs": [],
   "source": [
    "from torch.utils.data import DataLoader\n",
    "\n",
    "dataloader = DataLoader(dataset, batch_size=128, shuffle=True, num_workers=8, pin_memory=True)"
   ]
  },
  {
   "cell_type": "code",
   "execution_count": 17,
   "metadata": {},
   "outputs": [],
   "source": [
    "# for images, landmarks in dataloader:\n",
    "#     print(images.shape)\n",
    "#     print(landmarks.shape)\n",
    "#     break"
   ]
  },
  {
   "cell_type": "code",
   "execution_count": null,
   "metadata": {},
   "outputs": [],
   "source": [
    "import torch.optim as optim\n",
    "\n",
    "criterion = nn.MSELoss()\n",
    "optimizer = optim.Adam(net.parameters(), lr=0.001)\n",
    "\n",
    "device = torch.device(\"cuda:0\" if torch.cuda.is_available() else \"cpu\")\n",
    "\n",
    "net.to(device)\n",
    "\n",
    "for epoch in range(10):\n",
    "    running_loss = 0.0\n",
    "    for i, (inputs, labels) in enumerate(dataloader, 0):\n",
    "        if inputs is None:\n",
    "            continue\n",
    "        \n",
    "        inputs, labels = inputs.to(device), labels.to(device)\n",
    "\n",
    "        labels = labels.view(labels.size(0), -1)\n",
    "\n",
    "        optimizer.zero_grad()\n",
    "\n",
    "        outputs = net(inputs)\n",
    "\n",
    "        loss = criterion(outputs, labels)\n",
    "\n",
    "        loss.backward()\n",
    "        optimizer.step()\n",
    "        \n",
    "        # print(f\"outputs shape: {outputs.shape}\")\n",
    "        # print(f\"labels shape: {labels.shape}\")\n",
    "\n",
    "        running_loss += loss.item()\n",
    "        if i % 10 == 9:\n",
    "            print(f\"[{epoch + 1}, {i + 1}] loss: {running_loss / 10}\")\n",
    "            running_loss = 0.0\n",
    "\n",
    "# torch.save(net.state_dict(), \"model.pth\")\n"
   ]
  },
  {
   "cell_type": "code",
   "execution_count": 20,
   "metadata": {},
   "outputs": [
    {
     "name": "stdout",
     "output_type": "stream",
     "text": [
      "cuda:0 cuda:0\n"
     ]
    }
   ],
   "source": [
    "print(inputs.device, labels.device)"
   ]
  },
  {
   "cell_type": "code",
   "execution_count": null,
   "metadata": {},
   "outputs": [],
   "source": [
    "from ..utils import train_test_split\n",
    "\n",
    "train_loader, val_loader, test_loader = train_test_split(dataloader, test_size=0.2)"
   ]
  },
  {
   "cell_type": "code",
   "execution_count": 21,
   "metadata": {},
   "outputs": [
    {
     "data": {
      "text/plain": [
       "0            0\n",
       "1            1\n",
       "2            2\n",
       "3            3\n",
       "4            4\n",
       "         ...  \n",
       "16406    16406\n",
       "16407    16407\n",
       "16408    16408\n",
       "16409    16409\n",
       "16410    16410\n",
       "Name: index, Length: 16411, dtype: int64"
      ]
     },
     "execution_count": 21,
     "metadata": {},
     "output_type": "execute_result"
    }
   ],
   "source": [
    "annotations[\"index\"]"
   ]
  }
 ],
 "metadata": {
  "kernelspec": {
   "display_name": ".venv",
   "language": "python",
   "name": "python3"
  },
  "language_info": {
   "codemirror_mode": {
    "name": "ipython",
    "version": 3
   },
   "file_extension": ".py",
   "mimetype": "text/x-python",
   "name": "python",
   "nbconvert_exporter": "python",
   "pygments_lexer": "ipython3",
   "version": "3.11.9"
  }
 },
 "nbformat": 4,
 "nbformat_minor": 2
}
