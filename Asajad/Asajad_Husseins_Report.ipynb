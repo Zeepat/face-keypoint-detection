{
 "cells": [
  {
   "cell_type": "markdown",
   "metadata": {},
   "source": [
    "# <b>1. Introduction</b>"
   ]
  },
  {
   "cell_type": "markdown",
   "metadata": {},
   "source": [
    "### <u>Project Overview</u>\n",
    "\n",
    "Facial keypoint detection is a computer vision task that involves identifying and locating specific points on a person's face, such as the eyes, nose, and mouth. This project aims to develop a reliable neural network model that can accurately detect these facial keypoints in various images. By utilizing advanced machine learning techniques and data augmentation methods, the project seeks to enhance the precision and consistency of facial feature detection. This is important for applications like facial recognition systems, virtual makeup tools, and interactive technologies that respond to facial expressions."
   ]
  },
  {
   "cell_type": "markdown",
   "metadata": {
    "vscode": {
     "languageId": "plaintext"
    }
   },
   "source": [
    "### <u>Problem Statement</u>\n",
    "\n",
    "While there have been significant advancements in facial keypoint detection, achieving high accuracy and reliability in real-world conditions remains challenging. Current models often struggle with faces showing extreme angles, partial obstructions, or under different lighting conditions. Additionally, the limited availability of diverse annotated data makes it difficult to create models that work well for everyone. This project aims to overcome these issues by developing a top-performing facial keypoint detection model that remains accurate and dependable across a wide range of real-world scenarios.\n",
    "\n",
    "The main goals of this project are:\n",
    "\n",
    "- Model Development: Create and implement a deep learning model, preferably using convolutional neural networks, optimized for precise facial keypoint detection.\n",
    "\n",
    "- Data Augmentation: Apply advanced data augmentation techniques to increase the diversity of the training dataset, helping the model generalize better to new and unseen facial variations.\n",
    "\n",
    "- Performance Optimization: Fine-tune the model’s settings and use regularization methods to prevent overfitting, ensuring the model performs well on different datasets.\n",
    "\n",
    "- Evaluation and Validation: Thoroughly assess the model’s performance using both numerical metrics and visual inspections, comparing it with existing benchmarks to demonstrate its effectiveness."
   ]
  },
  {
   "cell_type": "markdown",
   "metadata": {},
   "source": [
    "# <b>2. Handling of Training and Inference</b>"
   ]
  },
  {
   "cell_type": "markdown",
   "metadata": {},
   "source": [
    "## Data Preparation"
   ]
  },
  {
   "cell_type": "markdown",
   "metadata": {
    "vscode": {
     "languageId": "plaintext"
    }
   },
   "source": [
    "### <u>Data Preparation:</u>\n",
    "\n",
    "The project utilizes the Facial Keypoints Detection dataset, which contains images of human faces along with annotated keypoints such as the eyes, nose, and mouth. The dataset is sourced from AFLW and comprises approximately 25000 images. Each image is labeled with 20 keypoints, providing precise locations for facial features. The dataset includes diverse facial expressions, lighting conditions, and angles to ensure the model learns to generalize well across different scenarios."
   ]
  },
  {
   "cell_type": "markdown",
   "metadata": {
    "vscode": {
     "languageId": "plaintext"
    }
   },
   "source": [
    "### <u>Preprocessing Steps:</u>\n",
    "Before training, the data undergoes several preprocessing steps to ensure consistency and improve model performance:\n",
    "\n",
    "1. Data Cleaning: Images with missing or corrupted keypoints are removed to maintain data integrity. Remove any images that do not contain the keypoints: left eye center, right eye center, nose center, and mouth center. Remove any images that contain multiple faces.\n",
    "\n",
    "2. Normalization: Pixel values of the images are scaled to a range of [0, 1] to facilitate faster and more stable training. Similarly, keypoint coordinates are normalized relative to the image dimensions.\n",
    "\n",
    "3. Data Augmentation: To increase the diversity of the training data, techniques such as rotations, horizontal flips, and brightness adjustments are applied using the Albumentations library. This helps the model become more robust to variations in real-world data.\n",
    "\n",
    "It might be worth mentioning that in training, I (Asajad), used data augmentation but my other group mates did not. Results will be explained later on."
   ]
  },
  {
   "cell_type": "markdown",
   "metadata": {},
   "source": [
    "## Model Architecture:\n",
    "\n"
   ]
  },
  {
   "cell_type": "markdown",
   "metadata": {},
   "source": [
    "### <u>Design Choices:</u>\n",
    "\n",
    "The model is built using a Convolutional Neural Network (CNN) architecture, which is well-suited for image-based tasks. The network consists of multiple convolutional layers followed by pooling layers to extract hierarchical features from the input images. After the convolutional blocks, fully connected layers are used to map the extracted features to the final keypoint coordinates. Dropout layers are included to prevent overfitting by randomly disabling neurons during training.\n",
    "\n",
    "A CNN was chosen for its proven effectiveness in image recognition and localization tasks. The architecture balances depth and complexity to capture intricate facial features without being overly computationally intensive. Utilizing dropout layers enhances the model's ability to generalize by reducing reliance on specific neurons, thereby improving performance on unseen data.\n",
    "\n",
    "The model's architecture was highly influence by a network made by the github user nalbert9 found [here](https://github.com/nalbert9/Facial-Keypoint-Detection/blob/master/models.py). "
   ]
  },
  {
   "cell_type": "markdown",
   "metadata": {},
   "source": [
    "![Network Architecture](model/network_architecture.png)"
   ]
  },
  {
   "cell_type": "markdown",
   "metadata": {},
   "source": [
    "## Training Configuration:"
   ]
  },
  {
   "cell_type": "markdown",
   "metadata": {},
   "source": [
    "### <u>Hyperparameters:</u>\n",
    "- Learning Rate: Set to 0.0001, it determines the step size during weight updates. A lower learning rate ensures stable convergence.\n",
    "\n",
    "- Batch Size: Set to 64, it defines the number of samples processed before the model's internal parameters are updated.\n",
    "\n",
    "- Epochs: The model is trained for 100 epochs, allowing sufficient iterations for learning, but also including a patience of 10 in case of overfitting.\n",
    "\n",
    "- Weight Decay: Applied at 1e-5 to prevent overfitting by penalizing large weights."
   ]
  },
  {
   "cell_type": "markdown",
   "metadata": {},
   "source": [
    "### <u>Training Pipeline:</u>\n",
    "\n",
    "1. Forward Pass: Input images are fed through the CNN to obtain predicted keypoints.\n",
    "\n",
    "2. Loss Calculation: The Mean Squared Error (MSE) loss function measures the difference between predicted and actual keypoints.\n",
    "\n",
    "3. Backward Pass: Gradients are computed using backpropagation.\n",
    "\n",
    "4. Optimization: The Adam optimizer updates the model's weights based on the gradients.\n",
    "\n",
    "5. Learning Rate Scheduling: The ReduceLROnPlateau scheduler adjusts the learning rate if the validation loss does not improve, aiding in finer convergence.\n",
    "\n",
    "6. Regularization: Dropout layers within the network help prevent overfitting by randomly deactivating neurons during training."
   ]
  },
  {
   "cell_type": "markdown",
   "metadata": {},
   "source": [
    "## Data Augmentation\n"
   ]
  },
  {
   "cell_type": "markdown",
   "metadata": {},
   "source": [
    "### <u>Techniques Applied:</u>\n",
    "The Albumentations library is employed to apply the following augmentation methods:\n",
    "\n",
    "- Horizontal Flips: Randomly flips images horizontally to simulate different face orientations.\n",
    "\n",
    "- Rotations: Rotates images within a range of ±15 degrees to mimic varied head tilts.\n",
    "\n",
    "- Shift, Scale, and Rotate (ShiftScaleRotate): Combines shifting, scaling, and rotating to create more diverse training samples.\n",
    "\n",
    "- Brightness and Contrast Adjustments: Alters the brightness and contrast to account for different lighting conditions.\n",
    "\n",
    "- Gaussian Blur: Applies blurring to simulate out-of-focus scenarios."
   ]
  },
  {
   "cell_type": "markdown",
   "metadata": {},
   "source": [
    "The results yielded from the data augmentation were insignificant. The others in my group had their lowest validation loss at 0.0048 while mine yielded a validation loss of 0.0044."
   ]
  },
  {
   "cell_type": "markdown",
   "metadata": {},
   "source": [
    "## Inference Pipeline"
   ]
  },
  {
   "cell_type": "markdown",
   "metadata": {},
   "source": [
    "### <u>Steps Involved:</u>\n",
    "\n",
    "The inference process follows a streamlined sequence to generate keypoint predictions from input images:\n",
    "\n",
    "1. Image Input: A new facial image is provided to the trained model.\n",
    "\n",
    "2. Preprocessing: The image undergoes the same normalization as during training to ensure consistency.\n",
    "\n",
    "3. Model Prediction: The CNN processes the image and outputs predicted keypoint coordinates.\n",
    "\n",
    "4. Post-processing: The normalized keypoints are scaled back to the original image dimensions to obtain accurate positions.\n",
    "\n",
    "5. Visualization: Predicted keypoints are plotted on the image for easy interpretation.\n",
    "\n",
    "\n",
    "The post-processing steps involved:\n",
    "- Denormalization: The predicted keypoint coordinates, initially normalized, are scaled back to match the original image size. This involves multiplying the normalized values by the image's width and height.\n",
    "\n",
    "- Clipping: Ensures that keypoints lie within the image boundaries by clipping any coordinates that fall outside the valid range."
   ]
  },
  {
   "cell_type": "markdown",
   "metadata": {},
   "source": [
    "# 3. Evaluation of Model and Method"
   ]
  },
  {
   "cell_type": "markdown",
   "metadata": {},
   "source": [
    "## Quantitative Evaluation"
   ]
  },
  {
   "cell_type": "markdown",
   "metadata": {},
   "source": [
    "### <u>Metrics Used:</u>\n",
    "\n",
    "The only metric used for loss was MSE as it is commonly suited with keypoints. When first attempting to train on bounding boxes we used SmoothL1Loss as a metric for that loss however was later removed, as we removed the training for the bounding box."
   ]
  },
  {
   "cell_type": "markdown",
   "metadata": {},
   "source": [
    "### <u>Results:</u>"
   ]
  },
  {
   "cell_type": "code",
   "execution_count": 2,
   "metadata": {},
   "outputs": [],
   "source": [
    "import pandas as pd\n",
    "import matplotlib.pyplot as plt"
   ]
  },
  {
   "cell_type": "code",
   "execution_count": 9,
   "metadata": {},
   "outputs": [
    {
     "data": {
      "image/png": "[encoded data removed]",
      "text/plain": [
       "<Figure size 640x480 with 1 Axes>"
      ]
     },
     "metadata": {},
     "output_type": "display_data"
    }
   ],
   "source": [
    "df = pd.read_csv(r'trained_models\\training_results_02_15_01_2025.csv')\n",
    "df.plot(x='epoch', y=['train_loss', 'val_loss'], kind='line')\n",
    "plt.xlabel('Epoch')\n",
    "plt.ylabel('Loss')\n",
    "plt.title('Training and Validation Loss over Epochs')\n",
    "plt.legend(['Train Loss', 'Validation Loss'])\n",
    "plt.show()"
   ]
  },
  {
   "cell_type": "code",
   "execution_count": 10,
   "metadata": {},
   "outputs": [
    {
     "name": "stdout",
     "output_type": "stream",
     "text": [
      "The lowest validation loss was: 0.0044 at epoch 99\n"
     ]
    }
   ],
   "source": [
    "lowest_val_loss = df.min().iloc[2]\n",
    "lowest_val_loss_epoch = df.idxmin().iloc[2]\n",
    "print(f\"The lowest validation loss was: {lowest_val_loss:.4f} at epoch {lowest_val_loss_epoch}\")"
   ]
  },
  {
   "cell_type": "markdown",
   "metadata": {},
   "source": [
    "## Inference Examples"
   ]
  },
  {
   "cell_type": "markdown",
   "metadata": {},
   "source": [
    "![Inference 1](trained_models\\inference_1.png)\n",
    "![Inference 2](trained_models\\inference_2.png)\n",
    "![Inference 3](trained_models\\inference_3.png)\n",
    "![Inference 4](trained_models\\inference_4.png)"
   ]
  },
  {
   "cell_type": "markdown",
   "metadata": {},
   "source": [
    "# 4. Problem Solving and Solution Discussion"
   ]
  },
  {
   "cell_type": "markdown",
   "metadata": {},
   "source": [
    "## Challenges Faced"
   ]
  },
  {
   "cell_type": "markdown",
   "metadata": {},
   "source": [
    "### <u>Model Architecture Issues:</u>\n",
    "In the beginning, we implemented a neural network architecture that included batch normalization layers. However, this configuration did not yield the desired results. The model struggled to accurately detect facial keypoints, indicating that the batch normalization might be hindering its performance."
   ]
  },
  {
   "cell_type": "markdown",
   "metadata": {},
   "source": [
    "### <u>Bounding Box Problems:</u>\n",
    "\n",
    "During the training process, we encountered issues related to bounding boxes around faces. These bounding boxes were intended to help the model focus on facial regions but instead interfered with the accurate detection of keypoints. This interference reduced the model's effectiveness in localizing facial features precisely."
   ]
  },
  {
   "cell_type": "markdown",
   "metadata": {},
   "source": [
    "### <u>Data Pipeline Challenges:</u>\n",
    "\n",
    "As to not overcomplicate the training, we removed all images that had multiple faces annotated, and also images that did not have all four desired keypoints annotated. Otherwise it could have overcomplicated the training and the network, as we need to annotate non visible keypoints and maybe add a visibility parameter. "
   ]
  },
  {
   "cell_type": "markdown",
   "metadata": {},
   "source": [
    "### <u>Preprocessing Challenges:</u>\n",
    "The preprocessing steps, which included data cleaning, normalization, and augmentation, were highly CPU-intensive when performed during training. This caused significant delays and inefficiencies, slowing down the overall training process and making it difficult to iterate quickly on model improvements."
   ]
  },
  {
   "cell_type": "markdown",
   "metadata": {},
   "source": [
    "## Solutions Implemented"
   ]
  },
  {
   "cell_type": "markdown",
   "metadata": {},
   "source": [
    "### <u>Removing Batch Normalization:</u>\n",
    "To address the poor performance caused by batch normalization, we decided to remove the batch normalization layers from our neural network architecture. This modification led to more stable training and improved accuracy in keypoint detection, as the model could now learn more effectively without the constraints imposed by batch normalization."
   ]
  },
  {
   "cell_type": "markdown",
   "metadata": {},
   "source": [
    "### <u>Eliminating Bounding Boxes:</u>\n",
    "Recognizing that bounding boxes were causing more harm than good, we removed them from our data processing pipeline. Without the bounding boxes, the model was better able to focus solely on detecting keypoints, resulting in enhanced precision and reliability in locating facial features."
   ]
  },
  {
   "cell_type": "markdown",
   "metadata": {},
   "source": [
    "### <u>Refining the Data Pipeline:</u>\n",
    "We took several steps to clean and refine our dataset:\n",
    "\n",
    "- Removing Incomplete Annotations: We excluded all images that did not have all four of the desired keypoints. This filtering reduced our dataset from 16,000 to 12,000 images, ensuring that each training sample provided complete information for accurate keypoint detection.\n",
    "\n",
    "- Excluding Multiple Faces: To avoid confusion and ensure that each image contained only a single face, we removed images featuring multiple faces. This further streamlined our dataset, allowing the model to focus on learning keypoints from clear and unambiguous facial images."
   ]
  },
  {
   "cell_type": "markdown",
   "metadata": {},
   "source": [
    "### <u>Optimizing Preprocessing Workflow:</u>\n",
    "To overcome the CPU-intensive preprocessing challenges, we shifted all preprocessing tasks to be completed before the training phase. By preprocessing the entire dataset in advance, we significantly reduced the computational load during training. This approach led to faster and more efficient training iterations, enabling us to train the model more quickly and iterate on improvements without being bottlenecked by preprocessing delays."
   ]
  },
  {
   "cell_type": "markdown",
   "metadata": {},
   "source": [
    "By implementing these solutions, we overcame the initial challenges and significantly improved the performance of our facial keypoint detection model. The removal of batch normalization and bounding boxes, combined with a cleaner and more consistent dataset and an optimized preprocessing workflow, contributed to a more accurate and reliable model capable of performing well."
   ]
  }
 ],
 "metadata": {
  "kernelspec": {
   "display_name": ".venv",
   "language": "python",
   "name": "python3"
  },
  "language_info": {
   "codemirror_mode": {
    "name": "ipython",
    "version": 3
   },
   "file_extension": ".py",
   "mimetype": "text/x-python",
   "name": "python",
   "nbconvert_exporter": "python",
   "pygments_lexer": "ipython3",
   "version": "3.11.9"
  }
 },
 "nbformat": 4,
 "nbformat_minor": 2
}
