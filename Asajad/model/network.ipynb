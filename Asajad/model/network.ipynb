{
 "cells": [
  {
   "cell_type": "code",
   "execution_count": 1,
   "metadata": {},
   "outputs": [],
   "source": [
    "import torch\n",
    "import torch.nn as nn\n",
    "import torch.nn.functional as F"
   ]
  },
  {
   "cell_type": "code",
   "execution_count": 2,
   "metadata": {},
   "outputs": [],
   "source": [
    "class Net(nn.Module):\n",
    "    def __init__(self):\n",
    "        super(Net, self).__init__()\n",
    "        \n",
    "        self.conv1 = nn.Conv2d(3, 32, 5)\n",
    "        self.pool = nn.MaxPool2d(2, 2)\n",
    "        self.conv2 = nn.Conv2d(32, 64, 3)\n",
    "        self.conv3 = nn.Conv2d(64, 128, 3)\n",
    "        self.conv4 = nn.Conv2d(128, 256, 3)\n",
    "        self.conv5 = nn.Conv2d(256, 512, 1)\n",
    "        \n",
    "        self.bn1 = nn.BatchNorm2d(32)\n",
    "        self.bn2 = nn.BatchNorm2d(64)\n",
    "        self.bn3 = nn.BatchNorm2d(128)\n",
    "        self.bn4 = nn.BatchNorm2d(256)\n",
    "        self.bn5 = nn.BatchNorm2d(512)\n",
    "\n",
    "        self.fc1 = nn.Linear(512, 1024)\n",
    "        self.fc2 = nn.Linear(1024, 512)\n",
    "        \n",
    "        # Separate heads for keypoints and bounding box\n",
    "        self.fc_keypoints = nn.Linear(512, 8)  # 4 keypoints * 2 (x, y)\n",
    "        self.fc_bbox = nn.Linear(512, 4)      # Bounding box (x_min, y_min, x_max, y_max)\n",
    "        \n",
    "        self.drop1 = nn.Dropout(p=0.25)\n",
    "    \n",
    "    def forward(self, x):\n",
    "        x = self.pool(F.relu(self.bn1(self.conv1(x))))\n",
    "        x = self.pool(F.relu(self.bn2(self.conv2(x))))\n",
    "        x = self.pool(F.relu(self.bn3(self.conv3(x))))\n",
    "        x = self.pool(F.relu(self.bn4(self.conv4(x))))\n",
    "        x = self.pool(F.relu(self.bn5(self.conv5(x))))\n",
    "\n",
    "        x = F.adaptive_avg_pool2d(x, 1)\n",
    "        x = x.view(x.size(0), -1)\n",
    "        \n",
    "        x = F.relu(self.fc1(x))\n",
    "        x = self.drop1(x)\n",
    "        x = F.relu(self.fc2(x))\n",
    "        x = self.drop1(x)\n",
    "        \n",
    "        # Separate outputs\n",
    "        keypoints = self.fc_keypoints(x)\n",
    "        bbox = self.fc_bbox(x)\n",
    "        \n",
    "        return keypoints, bbox"
   ]
  },
  {
   "cell_type": "code",
   "execution_count": 4,
   "metadata": {},
   "outputs": [
    {
     "name": "stdout",
     "output_type": "stream",
     "text": [
      "----------------------------------------------------------------\n",
      "        Layer (type)               Output Shape         Param #\n",
      "================================================================\n",
      "            Conv2d-1         [-1, 32, 220, 220]           2,432\n",
      "       BatchNorm2d-2         [-1, 32, 220, 220]              64\n",
      "         MaxPool2d-3         [-1, 32, 110, 110]               0\n",
      "            Conv2d-4         [-1, 64, 108, 108]          18,496\n",
      "       BatchNorm2d-5         [-1, 64, 108, 108]             128\n",
      "         MaxPool2d-6           [-1, 64, 54, 54]               0\n",
      "            Conv2d-7          [-1, 128, 52, 52]          73,856\n",
      "       BatchNorm2d-8          [-1, 128, 52, 52]             256\n",
      "         MaxPool2d-9          [-1, 128, 26, 26]               0\n",
      "           Conv2d-10          [-1, 256, 24, 24]         295,168\n",
      "      BatchNorm2d-11          [-1, 256, 24, 24]             512\n",
      "        MaxPool2d-12          [-1, 256, 12, 12]               0\n",
      "           Conv2d-13          [-1, 512, 12, 12]         131,584\n",
      "      BatchNorm2d-14          [-1, 512, 12, 12]           1,024\n",
      "        MaxPool2d-15            [-1, 512, 6, 6]               0\n",
      "           Linear-16                 [-1, 1024]         525,312\n",
      "          Dropout-17                 [-1, 1024]               0\n",
      "           Linear-18                  [-1, 512]         524,800\n",
      "          Dropout-19                  [-1, 512]               0\n",
      "           Linear-20                    [-1, 8]           4,104\n",
      "           Linear-21                    [-1, 4]           2,052\n",
      "================================================================\n",
      "Total params: 1,579,788\n",
      "Trainable params: 1,579,788\n",
      "Non-trainable params: 0\n",
      "----------------------------------------------------------------\n",
      "Input size (MB): 0.57\n",
      "Forward/backward pass size (MB): 49.16\n",
      "Params size (MB): 6.03\n",
      "Estimated Total Size (MB): 55.76\n",
      "----------------------------------------------------------------\n"
     ]
    }
   ],
   "source": [
    "from torchsummary import summary\n",
    "\n",
    "# Assuming your model is named 'Net'\n",
    "model = Net()\n",
    "\n",
    "# Move the model to the appropriate device\n",
    "device = torch.device(\"cuda\" if torch.cuda.is_available() else \"cpu\")\n",
    "model.to(device)\n",
    "\n",
    "# Print the summary\n",
    "summary(model, input_size=(3, 224, 224), device=str(device))"
   ]
  },
  {
   "cell_type": "code",
   "execution_count": 5,
   "metadata": {},
   "outputs": [
    {
     "name": "stdout",
     "output_type": "stream",
     "text": [
      "Total parameters: 1579788\n",
      "conv1.weight: 2400\n",
      "conv1.bias: 32\n",
      "conv2.weight: 18432\n",
      "conv2.bias: 64\n",
      "conv3.weight: 73728\n",
      "conv3.bias: 128\n",
      "conv4.weight: 294912\n",
      "conv4.bias: 256\n",
      "conv5.weight: 131072\n",
      "conv5.bias: 512\n",
      "bn1.weight: 32\n",
      "bn1.bias: 32\n",
      "bn2.weight: 64\n",
      "bn2.bias: 64\n",
      "bn3.weight: 128\n",
      "bn3.bias: 128\n",
      "bn4.weight: 256\n",
      "bn4.bias: 256\n",
      "bn5.weight: 512\n",
      "bn5.bias: 512\n",
      "fc1.weight: 524288\n",
      "fc1.bias: 1024\n",
      "fc2.weight: 524288\n",
      "fc2.bias: 512\n",
      "fc_keypoints.weight: 4096\n",
      "fc_keypoints.bias: 8\n",
      "fc_bbox.weight: 2048\n",
      "fc_bbox.bias: 4\n"
     ]
    }
   ],
   "source": [
    "model = Net()\n",
    "total_params = sum(p.numel() for p in model.parameters())\n",
    "print(f'Total parameters: {total_params}')\n",
    "\n",
    "# To see detailed parameters per layer\n",
    "for name, param in model.named_parameters():\n",
    "    if param.requires_grad:\n",
    "        print(f'{name}: {param.numel()}')"
   ]
  }
 ],
 "metadata": {
  "kernelspec": {
   "display_name": ".venv",
   "language": "python",
   "name": "python3"
  },
  "language_info": {
   "codemirror_mode": {
    "name": "ipython",
    "version": 3
   },
   "file_extension": ".py",
   "mimetype": "text/x-python",
   "name": "python",
   "nbconvert_exporter": "python",
   "pygments_lexer": "ipython3",
   "version": "3.11.9"
  }
 },
 "nbformat": 4,
 "nbformat_minor": 2
}
