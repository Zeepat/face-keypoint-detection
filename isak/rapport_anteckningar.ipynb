{
 "cells": [
  {
   "cell_type": "markdown",
   "metadata": {},
   "source": [
    "## Anteckningar och diverse fynd"
   ]
  },
  {
   "cell_type": "markdown",
   "metadata": {},
   "source": [
    "- 16 000 bilder valdes ut, de som inte innehöll NaN värden.\n",
    "- Av de 16 000 ansikten som vi valt att jobba med är ca 2 200 med på en bild som innehåller flera ansikten.\n",
    "- det finns en del b&w bilder som därmed har fel värde i sin färgdimension\n",
    "- Jag refererar i mitt dataset skapande till bilder som inte finns. Lös."
   ]
  }
 ],
 "metadata": {
  "kernelspec": {
   "display_name": ".venv",
   "language": "python",
   "name": "python3"
  },
  "language_info": {
   "name": "python",
   "version": "3.11.9"
  }
 },
 "nbformat": 4,
 "nbformat_minor": 2
}
